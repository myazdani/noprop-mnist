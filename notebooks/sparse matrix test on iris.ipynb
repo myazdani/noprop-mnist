{
 "metadata": {
  "name": "",
  "signature": "sha256:61a78605874b50df92e4d77eddbcdad4bfcbd628733fc9c60f7a85e15d8f070e"
 },
 "nbformat": 3,
 "nbformat_minor": 0,
 "worksheets": [
  {
   "cells": [
    {
     "cell_type": "code",
     "collapsed": false,
     "input": [
      "from sklearn.datasets import load_iris\n",
      "from sklearn.cross_validation import train_test_split\n",
      "from sklearn.cross_validation import cross_val_score, StratifiedKFold\n",
      "from sklearn.grid_search import GridSearchCV\n",
      "from sklearn import linear_model\n",
      "from scipy import *\n",
      "from scipy import sparse\n",
      "from sklearn.preprocessing import StandardScaler, Normalizer\n",
      "from numpy.random import normal\n",
      "from pylab import *\n",
      "%matplotlib inline"
     ],
     "language": "python",
     "metadata": {},
     "outputs": [],
     "prompt_number": 699
    },
    {
     "cell_type": "heading",
     "level": 1,
     "metadata": {},
     "source": [
      "Data setup"
     ]
    },
    {
     "cell_type": "code",
     "collapsed": false,
     "input": [
      "iris = load_iris()\n",
      "X, y = iris.data, iris.target\n",
      "X_train, X_test, y_train, y_test = train_test_split(X, y)\n",
      "\n",
      "X_train.shape"
     ],
     "language": "python",
     "metadata": {},
     "outputs": [
      {
       "metadata": {},
       "output_type": "pyout",
       "prompt_number": 41,
       "text": [
        "(112, 4)"
       ]
      }
     ],
     "prompt_number": 41
    },
    {
     "cell_type": "code",
     "collapsed": false,
     "input": [
      "# rescale X_train and X_test\n",
      "# scaler = StandardScaler().fit(X_train)\n",
      "scaler = Normalizer().fit(X_train)\n",
      "X_scaled_train = scaler.transform(X_train)\n",
      "X_scaled_test = scaler.transform(X_test)"
     ],
     "language": "python",
     "metadata": {},
     "outputs": [],
     "prompt_number": 556
    },
    {
     "cell_type": "heading",
     "level": 1,
     "metadata": {},
     "source": [
      "Definition of Mapping"
     ]
    },
    {
     "cell_type": "code",
     "collapsed": false,
     "input": [
      "# multiply X_train and X_test with Z to make Z_train and Z_test\n",
      "def hidden_unit(input_weights, X_input, thresh = 1e-3):\n",
      "    #weights_normlizer = Normalizer().fit(input_weights)\n",
      "    #input_weights = weights_normlizer.transform(input_weights)\n",
      "    Z_out = input_weights.dot(X_input.T).T\n",
      "    Z_out[abs(Z_out) < thresh] = 0\n",
      "    Z_out = sparse.csr_matrix(sign(Z_out))\n",
      "    #Z_out = tanh(Z_out)\n",
      "    #Z_out[Z_out < 0] = 0\n",
      "    return Z_out\n",
      "\n",
      "def tanh_unit(input_weights, X_input, thresh = 1e-3):\n",
      "    #weights_normlizer = Normalizer().fit(input_weights)\n",
      "    #input_weights = weights_normlizer.transform(input_weights)\n",
      "    Z_out = input_weights.dot(X_input.T).T\n",
      "    Z_out = tanh(Z_out)\n",
      "    return Z_out\n",
      "\n",
      "def heaviside_unit(input_weights, X_input, thresh = 1e-3):\n",
      "    #weights_normlizer = Normalizer().fit(input_weights)\n",
      "    #input_weights = weights_normlizer.transform(input_weights)\n",
      "    Z_out = input_weights.dot(X_input.T).T\n",
      "    Z_out[Z_out < 0*thresh] = 0\n",
      "    Z_out[Z_out > 0*thresh] = 1\n",
      "    return Z_out\n",
      "\n",
      "def relu_unit(input_weights, X_input, thresh = 1e-3):\n",
      "    #weights_normlizer = Normalizer().fit(input_weights)\n",
      "    #input_weights = weights_normlizer.transform(input_weights)\n",
      "    Z_out = input_weights.dot(X_input.T).T\n",
      "    Z_out[Z_out < 0*thresh] = 0   \n",
      "    return Z_out"
     ],
     "language": "python",
     "metadata": {},
     "outputs": [],
     "prompt_number": 803
    },
    {
     "cell_type": "heading",
     "level": 1,
     "metadata": {},
     "source": [
      "Example using single instantiaion of random mapping "
     ]
    },
    {
     "cell_type": "code",
     "collapsed": false,
     "input": [
      "# perform cross validation on Z_train and Z_test\n",
      "D = X_train.shape[1] #input dimension\n",
      "M = 50 # hidden unit dimension\n",
      "\n",
      "#Z = 1*sparse.rand(M, D, density = 1.5e-1, format = \"csc\") - 1*sparse.rand(M, D, density = 1.5e-1, format = \"csc\")\n",
      "Z = 1e10*normal(size = (M,D))\n",
      "Z_train = hidden_unit(Z, X_scaled_train, 1e-6)\n",
      "Z_test = hidden_unit(Z, X_scaled_test, 1e-6)\n",
      "logistic = linear_model.LogisticRegression(C=1e8)\n",
      "logistic.fit(Z_train, y_train)\n",
      "print \"how much overfitting:\", logistic.score(Z_train, y_train)\n",
      "scores = cross_val_score(logistic, Z_train, y_train, cv=5)\n",
      "print(scores)\n",
      "avg_scores = mean(scores)\n",
      "print(avg_scores)"
     ],
     "language": "python",
     "metadata": {},
     "outputs": [
      {
       "output_type": "stream",
       "stream": "stdout",
       "text": [
        "how much overfitting: 0.991071428571\n",
        "[ 1.          0.91304348  0.95454545  0.95454545  0.90909091]\n",
        "0.946245059289\n"
       ]
      }
     ],
     "prompt_number": 723
    },
    {
     "cell_type": "heading",
     "level": 1,
     "metadata": {},
     "source": [
      "Varying number of hidden units and using cross validation"
     ]
    },
    {
     "cell_type": "code",
     "collapsed": false,
     "input": [
      "avg_scores = []\n",
      "param_grid = {'C': 10. ** np.arange(-1, 8)}\n",
      "grid = GridSearchCV(linear_model.LogisticRegression(), param_grid=param_grid, cv=5)\n",
      "for M in range(10, 100):\n",
      "    Z = 10*normal(size = (M,D))\n",
      "    Z_train = hidden_unit(Z, X_scaled_train, 1e-6)\n",
      "    Z_test = hidden_unit(Z, X_scaled_test, 1e-6)\n",
      "    #scores = cross_val_score(linear_model.LogisticRegression(C=10), Z_train, y_train, cv=5)\n",
      "    #avg_scores.append(mean(scores))\n",
      "    grid.fit(Z_train, y_train)\n",
      "    avg_scores.append(grid.best_score_)"
     ],
     "language": "python",
     "metadata": {},
     "outputs": [],
     "prompt_number": 770
    },
    {
     "cell_type": "code",
     "collapsed": false,
     "input": [
      "plot(range(10, 100), avg_scores)"
     ],
     "language": "python",
     "metadata": {},
     "outputs": [
      {
       "metadata": {},
       "output_type": "pyout",
       "prompt_number": 771,
       "text": [
        "[<matplotlib.lines.Line2D at 0x11c437c10>]"
       ]
      },
      {
       "metadata": {},
       "output_type": "display_data",
       "png": "[encoded data removed]",
       "text": [
        "<matplotlib.figure.Figure at 0x11c21ed90>"
       ]
      }
     ],
     "prompt_number": 771
    },
    {
     "cell_type": "code",
     "collapsed": false,
     "input": [
      "mean(avg_scores[-50:])"
     ],
     "language": "python",
     "metadata": {},
     "outputs": [
      {
       "metadata": {},
       "output_type": "pyout",
       "prompt_number": 774,
       "text": [
        "0.96071428571428585"
       ]
      }
     ],
     "prompt_number": 774
    },
    {
     "cell_type": "heading",
     "level": 1,
     "metadata": {},
     "source": [
      "Multiple Instantiations of Hidden Units"
     ]
    },
    {
     "cell_type": "code",
     "collapsed": false,
     "input": [
      "train_scores = []\n",
      "test_scores = []\n",
      "hidden_units = []\n",
      "test_predicts = []\n",
      "train_predicts = []\n",
      "logistic = linear_model.LogisticRegression(C=1)\n",
      "M = 5\n",
      "num_ensembles = 100\n",
      "for i in range(num_ensembles):\n",
      "    Z = 1*normal(size = (M,D))\n",
      "    Z_train = heaviside_unit(Z, X_scaled_train, 1e-6)\n",
      "    Z_test = heaviside_unit(Z, X_scaled_test, 1e-6)\n",
      "    logistic.fit(Z_train, y_train)\n",
      "    train_scores.append(logistic.score(Z_train, y_train))\n",
      "    test_scores.append(logistic.score(Z_test, y_test))\n",
      "    hidden_units.append(Z)\n",
      "    test_predicts.append(logistic.predict(Z_test))\n",
      "    train_predicts.append(logistic.predict(Z_train))\n",
      "\n",
      "print max(test_scores)\n",
      "print mean(test_scores)"
     ],
     "language": "python",
     "metadata": {},
     "outputs": [
      {
       "output_type": "stream",
       "stream": "stdout",
       "text": [
        "1.0\n",
        "0.541578947368\n"
       ]
      }
     ],
     "prompt_number": 1043
    },
    {
     "cell_type": "code",
     "collapsed": false,
     "input": [
      "##\n",
      "## simple average ensemble:\n",
      "##\n",
      "predictions = zeros((len(test_predicts), len(Z_test)))\n",
      "for i, test_predict in enumerate(test_predicts):\n",
      "    predictions[i,:] = array([p for p in test_predict])\n",
      "\n",
      "avg_pred = mean(predictions, 0)\n",
      "print mean(avg_pred == y_test)"
     ],
     "language": "python",
     "metadata": {},
     "outputs": [
      {
       "output_type": "stream",
       "stream": "stdout",
       "text": [
        "0.0\n"
       ]
      }
     ],
     "prompt_number": 1041
    },
    {
     "cell_type": "code",
     "collapsed": false,
     "input": [
      "##\n",
      "## weighted average ensemble\n",
      "##\n",
      "logistic_ensemble = linear_model.LogisticRegression(C=10)\n",
      "logistic_ensemble.fit(array(train_predicts).T, y_train)\n",
      "logistic_ensemble.score(array(test_predicts).T, y_test)"
     ],
     "language": "python",
     "metadata": {},
     "outputs": [
      {
       "metadata": {},
       "output_type": "pyout",
       "prompt_number": 1047,
       "text": [
        "0.97368421052631582"
       ]
      }
     ],
     "prompt_number": 1047
    },
    {
     "cell_type": "heading",
     "level": 1,
     "metadata": {},
     "source": [
      "Comparison Scripts"
     ]
    },
    {
     "cell_type": "code",
     "collapsed": false,
     "input": [
      "scores = cross_val_score(linear_model.LogisticRegression(C=1e5), X_train, y_train, cv=3)\n",
      "print(scores)\n",
      "avg_scores = mean(scores)\n",
      "print(avg_scores)"
     ],
     "language": "python",
     "metadata": {},
     "outputs": [
      {
       "output_type": "stream",
       "stream": "stdout",
       "text": [
        "[ 0.94871795  0.97297297  0.91666667]\n",
        "0.946119196119\n"
       ]
      }
     ],
     "prompt_number": 705
    },
    {
     "cell_type": "code",
     "collapsed": false,
     "input": [
      "param_grid = {'C': 10. ** np.arange(-1, 8)}\n",
      "grid = GridSearchCV(linear_model.LogisticRegression(), param_grid=param_grid, cv=5)\n",
      "grid.fit(X_train, y_train)\n",
      "print(grid.best_score_)"
     ],
     "language": "python",
     "metadata": {},
     "outputs": [
      {
       "output_type": "stream",
       "stream": "stdout",
       "text": [
        "0.955357142857\n"
       ]
      }
     ],
     "prompt_number": 711
    },
    {
     "cell_type": "code",
     "collapsed": false,
     "input": [
      "from sklearn.svm import SVC\n",
      "scores = cross_val_score(SVC(), X_train, y_train, cv=3)\n",
      "print(scores)\n",
      "avg_scores = mean(scores)\n",
      "print(avg_scores)"
     ],
     "language": "python",
     "metadata": {},
     "outputs": [
      {
       "output_type": "stream",
       "stream": "stdout",
       "text": [
        "[ 0.97435897  0.94594595  0.97222222]\n",
        "0.964175714176\n"
       ]
      }
     ],
     "prompt_number": 707
    },
    {
     "cell_type": "code",
     "collapsed": false,
     "input": [
      "param_grid = {'C': 10. ** np.arange(-6, 6), 'gamma': 10. ** np.arange(-3, 3)}\n",
      "grid = GridSearchCV(SVC(), param_grid=param_grid, cv=5)\n",
      "grid.fit(X_train, y_train)\n",
      "print(grid.best_params_)\n",
      "print(grid.best_score_)"
     ],
     "language": "python",
     "metadata": {},
     "outputs": [
      {
       "output_type": "stream",
       "stream": "stdout",
       "text": [
        "{'C': 1.0, 'gamma': 1.0}\n",
        "0.964285714286\n"
       ]
      }
     ],
     "prompt_number": 780
    },
    {
     "cell_type": "code",
     "collapsed": false,
     "input": [
      "svc = SVC(C = 1, gamma= 1)\n",
      "svc.fit(X_train, y_train)\n",
      "print svc.score(X_train, y_train)\n",
      "print svc.score(X_test, y_test)"
     ],
     "language": "python",
     "metadata": {},
     "outputs": [
      {
       "output_type": "stream",
       "stream": "stdout",
       "text": [
        "0.973214285714\n",
        "0.973684210526\n"
       ]
      }
     ],
     "prompt_number": 783
    },
    {
     "cell_type": "code",
     "collapsed": false,
     "input": [],
     "language": "python",
     "metadata": {},
     "outputs": []
    }
   ],
   "metadata": {}
  }
 ]
}