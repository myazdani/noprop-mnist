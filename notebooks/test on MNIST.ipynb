{
 "metadata": {
  "name": "",
  "signature": "sha256:e3eee4f385e2fc418585bb41dd77921b734cd374853be1837fff8173ce995e4b"
 },
 "nbformat": 3,
 "nbformat_minor": 0,
 "worksheets": [
  {
   "cells": [
    {
     "cell_type": "code",
     "collapsed": false,
     "input": [
      "from sklearn.datasets import load_iris\n",
      "from sklearn.cross_validation import train_test_split\n",
      "from sklearn.cross_validation import cross_val_score, StratifiedKFold\n",
      "from sklearn.grid_search import GridSearchCV\n",
      "from sklearn import linear_model\n",
      "from scipy import *\n",
      "from scipy import sparse\n",
      "from scipy import stats\n",
      "from scipy import ndimage\n",
      "from scipy import misc\n",
      "from sklearn.preprocessing import StandardScaler, Normalizer\n",
      "from numpy.random import normal\n",
      "import csv\n",
      "from sklearn.svm import SVC\n",
      "from pylab import *\n",
      "%matplotlib inline"
     ],
     "language": "python",
     "metadata": {},
     "outputs": [],
     "prompt_number": 1
    },
    {
     "cell_type": "heading",
     "level": 1,
     "metadata": {},
     "source": [
      "Data from Folder Setup"
     ]
    },
    {
     "cell_type": "code",
     "collapsed": false,
     "input": [
      "import os\n",
      " \n",
      "src_path, image_type = \"/Users/myazdaniUCSD/Documents/misc_work/convnet_experiments/data_prep_scripts/jpg/\", \".jpg\"\n",
      " \n",
      "image_paths = []  \n",
      "for root, dirs, files in os.walk(src_path):\n",
      "  image_paths.extend([os.path.join(root, f) for f in files if f.endswith(image_type)])"
     ],
     "language": "python",
     "metadata": {},
     "outputs": [],
     "prompt_number": 2
    },
    {
     "cell_type": "code",
     "collapsed": false,
     "input": [
      "training = [(image_path.split(\"/jpg\")[1], misc.imread(image_path, flatten = True)) for image_path in image_paths if len(image_path.split(\"/jpg/\")[1]) < 9]"
     ],
     "language": "python",
     "metadata": {},
     "outputs": [],
     "prompt_number": 3
    },
    {
     "cell_type": "code",
     "collapsed": false,
     "input": [
      "X_train = array([reshape(t[1], (1,784)).flatten() for t in training])\n",
      "y_train = array([t[0].split(\"_\")[0][1] for t in training])\n",
      "print X_train.shape"
     ],
     "language": "python",
     "metadata": {},
     "outputs": [
      {
       "output_type": "stream",
       "stream": "stdout",
       "text": [
        "(1000, 784)\n"
       ]
      }
     ],
     "prompt_number": 4
    },
    {
     "cell_type": "code",
     "collapsed": false,
     "input": [
      "import cPickle\n",
      "f = open('/Users/myazdaniUCSD/Documents/misc_work/convnet_experiments/data_prep_scripts/mnist.pkl', 'rb')\n",
      "train_set, valid_set, test_set = cPickle.load(f)\n",
      "f.close()"
     ],
     "language": "python",
     "metadata": {},
     "outputs": [],
     "prompt_number": 5
    },
    {
     "cell_type": "code",
     "collapsed": false,
     "input": [
      "X_train = train_set[0]*255\n",
      "y_train_all = train_set[1]\n",
      "X_test = test_set[0][:3000,:]*255\n",
      "y_test = test_set[1][:3000]\n",
      "print X_train.shape, X_test.shape"
     ],
     "language": "python",
     "metadata": {},
     "outputs": [
      {
       "output_type": "stream",
       "stream": "stdout",
       "text": [
        "(50000, 784) (3000, 784)\n"
       ]
      }
     ],
     "prompt_number": 33
    },
    {
     "cell_type": "heading",
     "level": 1,
     "metadata": {},
     "source": [
      "Data setup"
     ]
    },
    {
     "cell_type": "code",
     "collapsed": false,
     "input": [
      "train_path = \"/Users/myazdaniUCSD/Documents/kaggle/MNIST/data/train.csv\"\n",
      "\n",
      "def return_rows(filename, file_encoding = 'rU'):\n",
      "  with open(filename, file_encoding) as f: \n",
      "    reader = csv.reader(f)\n",
      "    rowsInData = [row for row in reader]\n",
      "  return rowsInData  \n",
      "\n",
      "data = return_rows(train_path)\n",
      "labels = data.pop(0)"
     ],
     "language": "python",
     "metadata": {},
     "outputs": [],
     "prompt_number": 2
    },
    {
     "cell_type": "code",
     "collapsed": false,
     "input": [
      "y = [int(d[0]) for d in data]\n",
      "X = array([array(d[1:], dtype='float') for d in data])\n",
      "X_train, X_test, y_train, y_test = train_test_split(X, y)\n",
      "\n",
      "print \"train size:\", X_train.shape\n",
      "print \"test size:\", X_test.shape"
     ],
     "language": "python",
     "metadata": {},
     "outputs": [
      {
       "output_type": "stream",
       "stream": "stdout",
       "text": [
        "train size: (31500, 784)\n",
        "test size: (10500, 784)\n"
       ]
      }
     ],
     "prompt_number": 3
    },
    {
     "cell_type": "heading",
     "level": 1,
     "metadata": {},
     "source": [
      "Scaling data"
     ]
    },
    {
     "cell_type": "code",
     "collapsed": false,
     "input": [
      "num_train = 200\n",
      "# rescale X_train and X_test\n",
      "#scaler = StandardScaler().fit(X_train[:num_train,:])\n",
      "scaler = Normalizer().fit(X_train[:num_train,:])\n",
      "X_scaled_train = scaler.transform(X_train[:num_train,:])\n",
      "X_scaled_test = scaler.transform(X_test)\n",
      "y_train = y_train_all[:num_train]"
     ],
     "language": "python",
     "metadata": {},
     "outputs": [],
     "prompt_number": 62
    },
    {
     "cell_type": "code",
     "collapsed": false,
     "input": [
      "print X_scaled_train.shape, X_scaled_test.shape, y_train.shape\n",
      "i = 199\n",
      "print y_train[i]\n",
      "imshow(reshape(X_scaled_train[i,:], (28,28)))"
     ],
     "language": "python",
     "metadata": {},
     "outputs": [
      {
       "output_type": "stream",
       "stream": "stdout",
       "text": [
        "(200, 784) (3000, 784) (200,)\n",
        "2\n"
       ]
      },
      {
       "metadata": {},
       "output_type": "pyout",
       "prompt_number": 63,
       "text": [
        "<matplotlib.image.AxesImage at 0x10fd3f190>"
       ]
      },
      {
       "metadata": {},
       "output_type": "display_data",
       "png": "[encoded data removed]",
       "text": [
        "<matplotlib.figure.Figure at 0x10fdc5690>"
       ]
      }
     ],
     "prompt_number": 63
    },
    {
     "cell_type": "heading",
     "level": 1,
     "metadata": {},
     "source": [
      "Definition of Mapping"
     ]
    },
    {
     "cell_type": "code",
     "collapsed": false,
     "input": [
      "# multiply X_train and X_test with Z to make Z_train and Z_test\n",
      "def hidden_unit(input_weights, X_input, thresh = 1e-3):\n",
      "    #weights_normlizer = Normalizer().fit(input_weights)\n",
      "    #input_weights = weights_normlizer.transform(input_weights)\n",
      "    Z_out = input_weights.dot(X_input.T).T\n",
      "    Z_out[abs(Z_out) < thresh] = 0\n",
      "    Z_out = sparse.csr_matrix(sign(Z_out))\n",
      "    #Z_out = tanh(Z_out)\n",
      "    #Z_out[Z_out < 0] = 0\n",
      "    return Z_out\n",
      "\n",
      "def tanh_unit(input_weights, X_input, thresh = 1e-3):\n",
      "    #weights_normlizer = Normalizer().fit(input_weights)\n",
      "    #input_weights = weights_normlizer.transform(input_weights)\n",
      "    Z_out = input_weights.dot(X_input.T).T\n",
      "    Z_out = tanh(Z_out)\n",
      "    return Z_out\n",
      "\n",
      "def heaviside_unit(input_weights, X_input, thresh = 1e-3):\n",
      "    #weights_normlizer = Normalizer().fit(input_weights)\n",
      "    #input_weights = weights_normlizer.transform(input_weights)\n",
      "    Z_out = input_weights.dot(X_input.T).T\n",
      "    Z_out[Z_out < 0*thresh] = 0\n",
      "    Z_out[Z_out > 0*thresh] = 1\n",
      "    return Z_out\n",
      "\n",
      "def relu_unit(input_weights, X_input, thresh = 1e-3):\n",
      "    #weights_normlizer = Normalizer().fit(input_weights)\n",
      "    #input_weights = weights_normlizer.transform(input_weights)\n",
      "    Z_out = input_weights.dot(X_input.T).T\n",
      "    Z_out[Z_out < 0*thresh] = 0   \n",
      "    return Z_out"
     ],
     "language": "python",
     "metadata": {},
     "outputs": [],
     "prompt_number": 64
    },
    {
     "cell_type": "heading",
     "level": 1,
     "metadata": {},
     "source": [
      "Example using single instantiaion of random mapping "
     ]
    },
    {
     "cell_type": "code",
     "collapsed": false,
     "input": [
      "# perform cross validation on Z_train and Z_test\n",
      "D = X_train.shape[1] #input dimension\n",
      "M = 2e3 # hidden unit dimension\n",
      "\n",
      "#Z = 1*sparse.rand(M, D, density = 1.5e-1, format = \"csc\") - 1*sparse.rand(M, D, density = 1.5e-1, format = \"csc\")\n",
      "Z = .1*normal(size = (M,D))\n",
      "Z_train = heaviside_unit(Z, X_scaled_train, 1e-6)\n",
      "Z_test = heaviside_unit(Z, X_scaled_test, 1e-6)\n",
      "logistic = linear_model.LogisticRegression(C=1)\n",
      "logistic.fit(Z_train, y_train)\n",
      "print \"how much overfitting:\", logistic.score(Z_train, y_train)\n",
      "print \"Error on test set:\", logistic.score(Z_test, y_test)\n",
      "scores = cross_val_score(logistic, Z_train, y_train, cv=5)\n",
      "print(scores)\n",
      "avg_scores = mean(scores)\n",
      "print(avg_scores)"
     ],
     "language": "python",
     "metadata": {},
     "outputs": [
      {
       "output_type": "stream",
       "stream": "stdout",
       "text": [
        "how much overfitting: 1.0\n",
        "Error on test set: 0.696666666667\n",
        "[ 0.82222222  0.85        0.925       0.86842105  0.89189189]"
       ]
      },
      {
       "output_type": "stream",
       "stream": "stdout",
       "text": [
        "\n",
        "0.871507033349\n"
       ]
      }
     ],
     "prompt_number": 65
    },
    {
     "cell_type": "heading",
     "level": 1,
     "metadata": {},
     "source": [
      "Varying number of hidden units and using cross validation"
     ]
    },
    {
     "cell_type": "code",
     "collapsed": false,
     "input": [
      "avg_scores = []\n",
      "#param_grid = {'C': 10. ** np.arange(-1, 8)}\n",
      "#grid = GridSearchCV(linear_model.LogisticRegression(), param_grid=param_grid, cv=5)\n",
      "for M in range(1000, 10000, 100):\n",
      "    Z = 1*normal(size = (M,D))\n",
      "    Z_train = heaviside_unit(Z, X_scaled_train, 1e-6)\n",
      "    Z_test = heaviside_unit(Z, X_scaled_test, 1e-6)\n",
      "    scores = cross_val_score(linear_model.LogisticRegression(C=1e2), Z_train, y_train, cv=3)\n",
      "    avg_scores.append(mean(scores))\n",
      "    #grid.fit(Z_train, y_train)\n",
      "    #avg_scores.append(grid.best_score_)"
     ],
     "language": "python",
     "metadata": {},
     "outputs": [
      {
       "ename": "KeyboardInterrupt",
       "evalue": "",
       "output_type": "pyerr",
       "traceback": [
        "\u001b[0;31m---------------------------------------------------------------------------\u001b[0m\n\u001b[0;31mKeyboardInterrupt\u001b[0m                         Traceback (most recent call last)",
        "\u001b[0;32m<ipython-input-66-edf352fad4bb>\u001b[0m in \u001b[0;36m<module>\u001b[0;34m()\u001b[0m\n\u001b[1;32m      5\u001b[0m     \u001b[0mZ\u001b[0m \u001b[0;34m=\u001b[0m \u001b[0;36m1\u001b[0m\u001b[0;34m*\u001b[0m\u001b[0mnormal\u001b[0m\u001b[0;34m(\u001b[0m\u001b[0msize\u001b[0m \u001b[0;34m=\u001b[0m \u001b[0;34m(\u001b[0m\u001b[0mM\u001b[0m\u001b[0;34m,\u001b[0m\u001b[0mD\u001b[0m\u001b[0;34m)\u001b[0m\u001b[0;34m)\u001b[0m\u001b[0;34m\u001b[0m\u001b[0m\n\u001b[1;32m      6\u001b[0m     \u001b[0mZ_train\u001b[0m \u001b[0;34m=\u001b[0m \u001b[0mheaviside_unit\u001b[0m\u001b[0;34m(\u001b[0m\u001b[0mZ\u001b[0m\u001b[0;34m,\u001b[0m \u001b[0mX_scaled_train\u001b[0m\u001b[0;34m,\u001b[0m \u001b[0;36m1e-6\u001b[0m\u001b[0;34m)\u001b[0m\u001b[0;34m\u001b[0m\u001b[0m\n\u001b[0;32m----> 7\u001b[0;31m     \u001b[0mZ_test\u001b[0m \u001b[0;34m=\u001b[0m \u001b[0mheaviside_unit\u001b[0m\u001b[0;34m(\u001b[0m\u001b[0mZ\u001b[0m\u001b[0;34m,\u001b[0m \u001b[0mX_scaled_test\u001b[0m\u001b[0;34m,\u001b[0m \u001b[0;36m1e-6\u001b[0m\u001b[0;34m)\u001b[0m\u001b[0;34m\u001b[0m\u001b[0m\n\u001b[0m\u001b[1;32m      8\u001b[0m     \u001b[0mscores\u001b[0m \u001b[0;34m=\u001b[0m \u001b[0mcross_val_score\u001b[0m\u001b[0;34m(\u001b[0m\u001b[0mlinear_model\u001b[0m\u001b[0;34m.\u001b[0m\u001b[0mLogisticRegression\u001b[0m\u001b[0;34m(\u001b[0m\u001b[0mC\u001b[0m\u001b[0;34m=\u001b[0m\u001b[0;36m1e2\u001b[0m\u001b[0;34m)\u001b[0m\u001b[0;34m,\u001b[0m \u001b[0mZ_train\u001b[0m\u001b[0;34m,\u001b[0m \u001b[0my_train\u001b[0m\u001b[0;34m,\u001b[0m \u001b[0mcv\u001b[0m\u001b[0;34m=\u001b[0m\u001b[0;36m3\u001b[0m\u001b[0;34m)\u001b[0m\u001b[0;34m\u001b[0m\u001b[0m\n\u001b[1;32m      9\u001b[0m     \u001b[0mavg_scores\u001b[0m\u001b[0;34m.\u001b[0m\u001b[0mappend\u001b[0m\u001b[0;34m(\u001b[0m\u001b[0mmean\u001b[0m\u001b[0;34m(\u001b[0m\u001b[0mscores\u001b[0m\u001b[0;34m)\u001b[0m\u001b[0;34m)\u001b[0m\u001b[0;34m\u001b[0m\u001b[0m\n",
        "\u001b[0;32m<ipython-input-64-f06ad466698f>\u001b[0m in \u001b[0;36mheaviside_unit\u001b[0;34m(input_weights, X_input, thresh)\u001b[0m\n\u001b[1;32m     21\u001b[0m     \u001b[0;31m#input_weights = weights_normlizer.transform(input_weights)\u001b[0m\u001b[0;34m\u001b[0m\u001b[0;34m\u001b[0m\u001b[0m\n\u001b[1;32m     22\u001b[0m     \u001b[0mZ_out\u001b[0m \u001b[0;34m=\u001b[0m \u001b[0minput_weights\u001b[0m\u001b[0;34m.\u001b[0m\u001b[0mdot\u001b[0m\u001b[0;34m(\u001b[0m\u001b[0mX_input\u001b[0m\u001b[0;34m.\u001b[0m\u001b[0mT\u001b[0m\u001b[0;34m)\u001b[0m\u001b[0;34m.\u001b[0m\u001b[0mT\u001b[0m\u001b[0;34m\u001b[0m\u001b[0m\n\u001b[0;32m---> 23\u001b[0;31m     \u001b[0mZ_out\u001b[0m\u001b[0;34m[\u001b[0m\u001b[0mZ_out\u001b[0m \u001b[0;34m<\u001b[0m \u001b[0;36m0\u001b[0m\u001b[0;34m*\u001b[0m\u001b[0mthresh\u001b[0m\u001b[0;34m]\u001b[0m \u001b[0;34m=\u001b[0m \u001b[0;36m0\u001b[0m\u001b[0;34m\u001b[0m\u001b[0m\n\u001b[0m\u001b[1;32m     24\u001b[0m     \u001b[0mZ_out\u001b[0m\u001b[0;34m[\u001b[0m\u001b[0mZ_out\u001b[0m \u001b[0;34m>\u001b[0m \u001b[0;36m0\u001b[0m\u001b[0;34m*\u001b[0m\u001b[0mthresh\u001b[0m\u001b[0;34m]\u001b[0m \u001b[0;34m=\u001b[0m \u001b[0;36m1\u001b[0m\u001b[0;34m\u001b[0m\u001b[0m\n\u001b[1;32m     25\u001b[0m     \u001b[0;32mreturn\u001b[0m \u001b[0mZ_out\u001b[0m\u001b[0;34m\u001b[0m\u001b[0m\n",
        "\u001b[0;31mKeyboardInterrupt\u001b[0m: "
       ]
      }
     ],
     "prompt_number": 66
    },
    {
     "cell_type": "code",
     "collapsed": false,
     "input": [
      "plot(avg_scores)"
     ],
     "language": "python",
     "metadata": {},
     "outputs": []
    },
    {
     "cell_type": "code",
     "collapsed": false,
     "input": [
      "mean(avg_scores[-50:])"
     ],
     "language": "python",
     "metadata": {},
     "outputs": []
    },
    {
     "cell_type": "heading",
     "level": 1,
     "metadata": {},
     "source": [
      "Multiple Instantiations of Hidden Units"
     ]
    },
    {
     "cell_type": "code",
     "collapsed": false,
     "input": [
      "train_scores = []\n",
      "test_scores = []\n",
      "hidden_units = []\n",
      "test_predicts = []\n",
      "train_predicts = []\n",
      "logistic = linear_model.LogisticRegression(C=1)\n",
      "M = 2e3\n",
      "num_ensembles = 100\n",
      "for i in range(num_ensembles):\n",
      "    Z = 1*normal(size = (M,D))\n",
      "    Z_train = tanh_unit(Z, X_scaled_train[:num_train,], 1e-6)\n",
      "    Z_test = tanh_unit(Z, X_scaled_test, 1e-6)\n",
      "    logistic.fit(Z_train, y_train[:int(num_train)])\n",
      "    train_scores.append(logistic.score(Z_train, y_train[:int(num_train)]))\n",
      "    test_scores.append(logistic.score(Z_test, y_test))\n",
      "    hidden_units.append(Z)\n",
      "    test_predicts.append(logistic.predict(Z_test))\n",
      "    train_predicts.append(logistic.predict(Z_train))\n",
      "\n",
      "print max(test_scores)\n",
      "print mean(test_scores)"
     ],
     "language": "python",
     "metadata": {},
     "outputs": [
      {
       "output_type": "stream",
       "stream": "stdout",
       "text": [
        "0.709666666667\n",
        "0.7014\n"
       ]
      }
     ],
     "prompt_number": 67
    },
    {
     "cell_type": "code",
     "collapsed": false,
     "input": [
      "##\n",
      "## simple average ensemble:\n",
      "##\n",
      "predictions = zeros((len(test_predicts), len(Z_test)))\n",
      "for i, test_predict in enumerate(test_predicts):\n",
      "    predictions[i,:] = array([p for p in test_predict])\n",
      "\n",
      "avg_pred = mean(predictions, 0)\n",
      "print min(test_scores)\n",
      "print mean(avg_pred == y_test)"
     ],
     "language": "python",
     "metadata": {},
     "outputs": [
      {
       "output_type": "stream",
       "stream": "stdout",
       "text": [
        "0.692666666667\n",
        "0.601666666667\n"
       ]
      }
     ],
     "prompt_number": 68
    },
    {
     "cell_type": "code",
     "collapsed": false,
     "input": [
      "mode_pred = []\n",
      "mode_counts = []\n",
      "for i in range(predictions.shape[1]):\n",
      "    mode_pred.append(stats.mode(predictions[:,i])[0])\n",
      "    mode_counts.append(stats.mode(predictions[:,i])[1])\n",
      "mode_pred = array(mode_pred)\n",
      "print mean(mode_pred[:,0] == y_test)"
     ],
     "language": "python",
     "metadata": {},
     "outputs": [
      {
       "output_type": "stream",
       "stream": "stdout",
       "text": [
        "0.706666666667\n"
       ]
      }
     ],
     "prompt_number": 69
    },
    {
     "cell_type": "code",
     "collapsed": false,
     "input": [
      "mode_counts = array(mode_counts)"
     ],
     "language": "python",
     "metadata": {},
     "outputs": [],
     "prompt_number": 70
    },
    {
     "cell_type": "code",
     "collapsed": false,
     "input": [
      "y_test_a = array(y_test, dtype = float)\n",
      "thresh = 99\n",
      "print mean(mode_pred[array(flatnonzero(mode_counts>= thresh))].flatten() == y_test_a[list(flatnonzero(mode_counts>= thresh))].flatten())\n",
      "print \"actual\", y_test_a[list(flatnonzero(mode_counts >= thresh))][:10]\n",
      "print \"prediction\", mode_pred[array(flatnonzero(mode_counts>= thresh))].flatten()[:10]"
     ],
     "language": "python",
     "metadata": {},
     "outputs": [
      {
       "output_type": "stream",
       "stream": "stdout",
       "text": [
        "0.812666076174\n",
        "actual [ 7.  2.  1.  0.  4.  1.  9.  0.  9.  0.]\n",
        "prediction [ 7.  2.  1.  0.  4.  1.  9.  0.  9.  0.]\n"
       ]
      }
     ],
     "prompt_number": 71
    },
    {
     "cell_type": "code",
     "collapsed": false,
     "input": [
      "print mode_pred[array(flatnonzero(mode_counts>= thresh))].shape\n",
      "imshow(reshape(X_scaled_test[array(flatnonzero(mode_counts>= thresh))[5],:], (28,28)))"
     ],
     "language": "python",
     "metadata": {},
     "outputs": [
      {
       "output_type": "stream",
       "stream": "stdout",
       "text": [
        "(2258, 1)\n"
       ]
      },
      {
       "metadata": {},
       "output_type": "pyout",
       "prompt_number": 72,
       "text": [
        "<matplotlib.image.AxesImage at 0x10a5d2890>"
       ]
      },
      {
       "metadata": {},
       "output_type": "display_data",
       "png": "[encoded data removed]",
       "text": [
        "<matplotlib.figure.Figure at 0x10a3e4c10>"
       ]
      }
     ],
     "prompt_number": 72
    },
    {
     "cell_type": "heading",
     "level": 1,
     "metadata": {},
     "source": [
      "Comparison Scripts"
     ]
    },
    {
     "cell_type": "code",
     "collapsed": false,
     "input": [
      "scores = cross_val_score(linear_model.LogisticRegression(C=1e5), X_train[0:num_train,:], y_train[0:int(num_train)], cv=3)\n",
      "print(scores)\n",
      "avg_scores = mean(scores)\n",
      "print(avg_scores)"
     ],
     "language": "python",
     "metadata": {},
     "outputs": []
    },
    {
     "cell_type": "code",
     "collapsed": false,
     "input": [
      "param_grid = {'C': 10. ** np.arange(-1, 8)}\n",
      "grid = GridSearchCV(linear_model.LogisticRegression(), param_grid=param_grid, cv=5)\n",
      "grid.fit(X_train[:num_train,:], y_train[0:int(num_train)])\n",
      "print(grid.best_score_)\n",
      "print(grid.best_params_)"
     ],
     "language": "python",
     "metadata": {},
     "outputs": []
    },
    {
     "cell_type": "code",
     "collapsed": false,
     "input": [
      "linear_classifier = linear_model.LogisticRegression(C=.1)\n",
      "linear_classifier.fit(X_train[:num_train,:], y_train[0:int(num_train)])\n",
      "print linear_classifier.score(X_train[:num_train,:], y_train[0:int(num_train)])\n",
      "print linear_classifier.score(X_test, y_test)"
     ],
     "language": "python",
     "metadata": {},
     "outputs": []
    },
    {
     "cell_type": "code",
     "collapsed": false,
     "input": [
      "scores = cross_val_score(SVC(), X_train, y_train, cv=3)\n",
      "print(scores)\n",
      "avg_scores = mean(scores)\n",
      "print(avg_scores)"
     ],
     "language": "python",
     "metadata": {},
     "outputs": []
    },
    {
     "cell_type": "code",
     "collapsed": false,
     "input": [
      "param_grid = {'C': 10. ** np.arange(-6, 6), 'gamma': 10. ** np.arange(-3, 3)}\n",
      "grid = GridSearchCV(SVC(), param_grid=param_grid, cv=5)\n",
      "grid.fit(X_train[:num_train,:], y_train[0:int(num_train)])\n",
      "print(grid.best_params_)\n",
      "print(grid.best_score_)"
     ],
     "language": "python",
     "metadata": {},
     "outputs": []
    },
    {
     "cell_type": "code",
     "collapsed": false,
     "input": [
      "svc = SVC(C =.1, gamma= 0.1)\n",
      "svc.fit(X_train[:num_train,:], y_train[0:int(num_train)])\n",
      "print svc.score(X_train[:num_train,:], y_train[0:int(num_train)])\n",
      "print svc.score(X_test, y_test)"
     ],
     "language": "python",
     "metadata": {},
     "outputs": []
    },
    {
     "cell_type": "code",
     "collapsed": false,
     "input": [],
     "language": "python",
     "metadata": {},
     "outputs": []
    }
   ],
   "metadata": {}
  }
 ]
}