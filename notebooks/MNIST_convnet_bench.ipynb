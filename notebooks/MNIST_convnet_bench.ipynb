{
 "metadata": {
  "name": "",
  "signature": "sha256:faa32f8dbe73fd16a6f91086f943f452e09d1c2f1ca6aaf86045e6f28caf1672"
 },
 "nbformat": 3,
 "nbformat_minor": 0,
 "worksheets": [
  {
   "cells": [
    {
     "cell_type": "code",
     "collapsed": false,
     "input": [
      "import cPickle\n",
      "from sklearn.cross_validation import train_test_split\n",
      "from PIL import Image\n",
      "from sklearn.cross_validation import cross_val_score, StratifiedKFold\n",
      "from sklearn.grid_search import GridSearchCV\n",
      "from sklearn import linear_model\n",
      "from scipy import *\n",
      "from scipy.ndimage import filters\n",
      "from scipy import sparse\n",
      "from scipy import stats\n",
      "from sklearn.preprocessing import StandardScaler, Normalizer\n",
      "from numpy.random import normal\n",
      "import csv\n",
      "from sklearn.svm import SVC\n",
      "from pylab import *\n",
      "%matplotlib inline"
     ],
     "language": "python",
     "metadata": {},
     "outputs": [],
     "prompt_number": 26
    },
    {
     "cell_type": "heading",
     "level": 1,
     "metadata": {},
     "source": [
      "Relevant data setup"
     ]
    },
    {
     "cell_type": "code",
     "collapsed": false,
     "input": [
      "#f = gzip.open('mnist.pkl.gz', 'rb')\n",
      "f = open('../../data/mnist.pkl', 'rb')\n",
      "train_set, valid_set, test_set = cPickle.load(f)\n",
      "f.close()\n",
      "x = concatenate((train_set[0]*255,valid_set[0]*255,test_set[0][:3000,:]*255))"
     ],
     "language": "python",
     "metadata": {},
     "outputs": [],
     "prompt_number": 27
    },
    {
     "cell_type": "code",
     "collapsed": false,
     "input": [
      "num_train = 200"
     ],
     "language": "python",
     "metadata": {},
     "outputs": [],
     "prompt_number": 28
    },
    {
     "cell_type": "code",
     "collapsed": false,
     "input": [
      "X_train, y_train = x[:num_train,:], train_set[1][:num_train]\n",
      "X_test, y_test = x[-3000:,:], test_set[1][:3000]"
     ],
     "language": "python",
     "metadata": {},
     "outputs": [],
     "prompt_number": 29
    },
    {
     "cell_type": "code",
     "collapsed": false,
     "input": [
      "def gauss_deriv(im, sigma):\n",
      "    imx = zeros(im.shape)\n",
      "    filters.gaussian_filter(im, (sigma, sigma), (0,1), imx)\n",
      "    imy = zeros(im.shape)\n",
      "    filters.gaussian_filter(im, (sigma, sigma), (1,0), imy)\n",
      "    return sqrt(imx**2 + imy**2)\n",
      "\n",
      "img = reshape(X_train[0,:], (28,28))\n",
      "imshow(array(Image.fromarray(img).rotate(1)), cmap = \"gray\")\n",
      "#type(Image.fromarray(img))"
     ],
     "language": "python",
     "metadata": {},
     "outputs": [
      {
       "metadata": {},
       "output_type": "pyout",
       "prompt_number": 30,
       "text": [
        "<matplotlib.image.AxesImage at 0x103be3bd0>"
       ]
      },
      {
       "metadata": {},
       "output_type": "display_data",
       "png": "[encoded data removed]",
       "text": [
        "<matplotlib.figure.Figure at 0x103b5b1d0>"
       ]
      }
     ],
     "prompt_number": 30
    },
    {
     "cell_type": "code",
     "collapsed": false,
     "input": [
      "#X_train_dog = zeros(X_train.shape)\n",
      "#for i in range(num_train):\n",
      "#    img = reshape(X_train[i,:], (28,28))\n",
      "#    X_train_dog[i,:] = reshape(gauss_deriv(img, .7), (1, 784))"
     ],
     "language": "python",
     "metadata": {},
     "outputs": [],
     "prompt_number": 31
    },
    {
     "cell_type": "code",
     "collapsed": false,
     "input": [
      "X_train_angle = []\n",
      "angles = range(-20,20)\n",
      "for angle in angles:\n",
      "    for i in range(num_train):\n",
      "        img = reshape(X_train[i,:], (28,28))\n",
      "        X_train_angle.append(reshape(array(Image.fromarray(img).rotate(angle)), (1,784)))"
     ],
     "language": "python",
     "metadata": {},
     "outputs": [],
     "prompt_number": 32
    },
    {
     "cell_type": "code",
     "collapsed": false,
     "input": [
      "X_train_angle = reshape(array(X_train_angle), (len(X_train_angle), 784))\n",
      "y_train_extend = tile(y_train, X_train_angle.shape[0]/X_train.shape[0])"
     ],
     "language": "python",
     "metadata": {},
     "outputs": [],
     "prompt_number": 33
    },
    {
     "cell_type": "code",
     "collapsed": false,
     "input": [
      "#X_train_extend = concatenate((X_train, X_train_dog))\n",
      "#y_train_extend = concatenate((y_train, y_train))\n",
      "#print y_train_extend.shape"
     ],
     "language": "python",
     "metadata": {},
     "outputs": [],
     "prompt_number": 34
    },
    {
     "cell_type": "code",
     "collapsed": false,
     "input": [
      "scaler = Normalizer().fit(X_train_angle)\n",
      "X_scaled_train = scaler.transform(X_train_angle)\n",
      "X_scaled_test = scaler.transform(X_test)\n",
      "y_train = y_train_extend"
     ],
     "language": "python",
     "metadata": {},
     "outputs": [],
     "prompt_number": 35
    },
    {
     "cell_type": "code",
     "collapsed": false,
     "input": [
      "X_scaled_train.shape"
     ],
     "language": "python",
     "metadata": {},
     "outputs": [
      {
       "metadata": {},
       "output_type": "pyout",
       "prompt_number": 36,
       "text": [
        "(8000, 784)"
       ]
      }
     ],
     "prompt_number": 36
    },
    {
     "cell_type": "heading",
     "level": 1,
     "metadata": {},
     "source": [
      "Definition of Mapping"
     ]
    },
    {
     "cell_type": "code",
     "collapsed": false,
     "input": [
      "# multiply X_train and X_test with Z to make Z_train and Z_test\n",
      "def hidden_unit(input_weights, X_input, thresh = 1e-3):\n",
      "    #weights_normlizer = Normalizer().fit(input_weights)\n",
      "    #input_weights = weights_normlizer.transform(input_weights)\n",
      "    Z_out = input_weights.dot(X_input.T).T\n",
      "    Z_out[abs(Z_out) < thresh] = 0\n",
      "    Z_out = sparse.csr_matrix(sign(Z_out))\n",
      "    #Z_out = tanh(Z_out)\n",
      "    #Z_out[Z_out < 0] = 0\n",
      "    return Z_out\n",
      "\n",
      "def tanh_unit(input_weights, X_input, thresh = 1e-3):\n",
      "    #weights_normlizer = Normalizer().fit(input_weights)\n",
      "    #input_weights = weights_normlizer.transform(input_weights)\n",
      "    Z_out = input_weights.dot(X_input.T).T\n",
      "    Z_out = tanh(Z_out)\n",
      "    return Z_out\n",
      "\n",
      "def heaviside_unit(input_weights, X_input, thresh = 1e-3):\n",
      "    #weights_normlizer = Normalizer().fit(input_weights)\n",
      "    #input_weights = weights_normlizer.transform(input_weights)\n",
      "    Z_out = input_weights.dot(X_input.T).T\n",
      "    Z_out[Z_out < 0*thresh] = 0\n",
      "    Z_out[Z_out > 0*thresh] = 1\n",
      "    return Z_out\n",
      "\n",
      "def relu_unit(input_weights, X_input, thresh = 1e-3):\n",
      "    #weights_normlizer = Normalizer().fit(input_weights)\n",
      "    #input_weights = weights_normlizer.transform(input_weights)\n",
      "    Z_out = input_weights.dot(X_input.T).T\n",
      "    Z_out[Z_out < 0*thresh] = 0   \n",
      "    return Z_out"
     ],
     "language": "python",
     "metadata": {},
     "outputs": [],
     "prompt_number": 37
    },
    {
     "cell_type": "heading",
     "level": 1,
     "metadata": {},
     "source": [
      "Example using single instantiaion of random mapping "
     ]
    },
    {
     "cell_type": "code",
     "collapsed": false,
     "input": [
      "# perform cross validation on Z_train and Z_test\n",
      "D = X_scaled_train.shape[1] #input dimension\n",
      "M = 10e3 # hidden unit dimension\n",
      "\n",
      "#Z = 1*sparse.rand(M, D, density = 1.5e-1, format = \"csc\") - 1*sparse.rand(M, D, density = 1.5e-1, format = \"csc\")\n",
      "Z = 1*normal(size = (M,D))\n",
      "Z_train = tanh_unit(Z, X_scaled_train, 1e-6)\n",
      "Z_test = tanh_unit(Z, X_scaled_test, 1e-6)\n",
      "logistic = linear_model.LogisticRegression(C=1)\n",
      "logistic.fit(Z_train, y_train)\n",
      "print \"how much overfitting:\", logistic.score(Z_train, y_train)\n",
      "print \"Error on test set:\", logistic.score(Z_test, y_test)\n",
      "scores = cross_val_score(logistic, Z_train, y_train, cv=5)\n",
      "print(scores)\n",
      "avg_scores = mean(scores)\n",
      "print(avg_scores)"
     ],
     "language": "python",
     "metadata": {},
     "outputs": [
      {
       "output_type": "stream",
       "stream": "stdout",
       "text": [
        "how much overfitting: "
       ]
      },
      {
       "output_type": "stream",
       "stream": "stdout",
       "text": [
        "1.0\n",
        "Error on test set: 0.703\n",
        "[ 0.925     1.        0.995     1.        0.941875]"
       ]
      },
      {
       "output_type": "stream",
       "stream": "stdout",
       "text": [
        "\n",
        "0.972375\n"
       ]
      }
     ],
     "prompt_number": 40
    },
    {
     "cell_type": "code",
     "collapsed": false,
     "input": [
      "X_scaled_train.shape"
     ],
     "language": "python",
     "metadata": {},
     "outputs": [
      {
       "metadata": {},
       "output_type": "pyout",
       "prompt_number": 39,
       "text": [
        "(8000, 784)"
       ]
      }
     ],
     "prompt_number": 39
    },
    {
     "cell_type": "heading",
     "level": 1,
     "metadata": {},
     "source": [
      "Multiple Instantiations of Hidden Units"
     ]
    },
    {
     "cell_type": "code",
     "collapsed": false,
     "input": [
      "train_scores = []\n",
      "test_scores = []\n",
      "hidden_units = []\n",
      "test_predicts = []\n",
      "train_predicts = []\n",
      "logistic = linear_model.LogisticRegression(C=1)\n",
      "M = 1e3\n",
      "num_ensembles = 100\n",
      "for i in range(num_ensembles):\n",
      "    Z = rand()*normal(size = (M,D))\n",
      "    Z_train = tanh_unit(Z, X_scaled_train, 1e-6)\n",
      "    Z_test = tanh_unit(Z, X_scaled_test, 1e-6)\n",
      "    logistic.fit(Z_train, y_train)\n",
      "    train_scores.append(logistic.score(Z_train, y_train))\n",
      "    test_scores.append(logistic.score(Z_test, y_test))\n",
      "    hidden_units.append(Z)\n",
      "    test_predicts.append(logistic.predict(Z_test))\n",
      "    train_predicts.append(logistic.predict(Z_train))\n",
      "\n",
      "print max(test_scores)\n",
      "print mean(test_scores)"
     ],
     "language": "python",
     "metadata": {},
     "outputs": [
      {
       "output_type": "stream",
       "stream": "stdout",
       "text": [
        "0.704\n",
        "0.687673333333\n"
       ]
      }
     ],
     "prompt_number": 18
    },
    {
     "cell_type": "code",
     "collapsed": false,
     "input": [
      "##\n",
      "## simple average ensemble:\n",
      "##\n",
      "predictions = zeros((len(test_predicts), len(Z_test)))\n",
      "for i, test_predict in enumerate(test_predicts):\n",
      "    predictions[i,:] = array([p for p in test_predict])\n",
      "\n",
      "avg_pred = mean(predictions, 0)\n",
      "print min(test_scores)\n",
      "print mean(avg_pred == y_test)"
     ],
     "language": "python",
     "metadata": {},
     "outputs": [
      {
       "output_type": "stream",
       "stream": "stdout",
       "text": [
        "0.667666666667\n",
        "0.57\n"
       ]
      }
     ],
     "prompt_number": 19
    },
    {
     "cell_type": "code",
     "collapsed": false,
     "input": [
      "mode_pred = []\n",
      "mode_counts = []\n",
      "for i in range(predictions.shape[1]):\n",
      "    mode_pred.append(stats.mode(predictions[:,i])[0])\n",
      "    mode_counts.append(stats.mode(predictions[:,i])[1])\n",
      "mode_pred = array(mode_pred)\n",
      "print mean(mode_pred[:,0] == y_test)"
     ],
     "language": "python",
     "metadata": {},
     "outputs": [
      {
       "output_type": "stream",
       "stream": "stdout",
       "text": [
        "0.69\n"
       ]
      }
     ],
     "prompt_number": 20
    },
    {
     "cell_type": "code",
     "collapsed": false,
     "input": [
      "mode_counts = array(mode_counts)"
     ],
     "language": "python",
     "metadata": {},
     "outputs": [],
     "prompt_number": 21
    },
    {
     "cell_type": "code",
     "collapsed": false,
     "input": [
      "y_test_a = array(y_test, dtype = float)\n",
      "mean(mode_pred[array(flatnonzero(mode_counts>= 99))].flatten() == y_test_a[list(flatnonzero(mode_counts>= 99))].flatten())"
     ],
     "language": "python",
     "metadata": {},
     "outputs": [
      {
       "metadata": {},
       "output_type": "pyout",
       "prompt_number": 30,
       "text": [
        "0.80323450134770891"
       ]
      }
     ],
     "prompt_number": 30
    },
    {
     "cell_type": "code",
     "collapsed": false,
     "input": [
      "mode_pred[array(flatnonzero(mode_counts< 99))].shape"
     ],
     "language": "python",
     "metadata": {},
     "outputs": [
      {
       "metadata": {},
       "output_type": "pyout",
       "prompt_number": 31,
       "text": [
        "(774, 1)"
       ]
      }
     ],
     "prompt_number": 31
    },
    {
     "cell_type": "code",
     "collapsed": false,
     "input": [
      "print y_test_a[list(flatnonzero(mode_counts< 99))][:10]"
     ],
     "language": "python",
     "metadata": {},
     "outputs": [
      {
       "output_type": "stream",
       "stream": "stdout",
       "text": [
        "[ 2.  0.  5.  6.  3.  5.  4.  3.  5.  2.]\n"
       ]
      }
     ],
     "prompt_number": 33
    },
    {
     "cell_type": "code",
     "collapsed": false,
     "input": [
      "mode_counts.shape"
     ],
     "language": "python",
     "metadata": {},
     "outputs": []
    },
    {
     "cell_type": "code",
     "collapsed": false,
     "input": [],
     "language": "python",
     "metadata": {},
     "outputs": []
    }
   ],
   "metadata": {}
  }
 ]
}